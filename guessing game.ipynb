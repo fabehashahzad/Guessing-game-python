{
 "cells": [
  {
   "cell_type": "code",
   "execution_count": 2,
   "id": "f830d27f",
   "metadata": {},
   "outputs": [
    {
     "name": "stdout",
     "output_type": "stream",
     "text": [
      "lets play!!\n",
      "I have a number in my mind, Can you guess it?\n"
     ]
    }
   ],
   "source": [
    "from random import randint\n",
    "num=randint(0,100)\n",
    "print('lets play!!')\n",
    "print(\"I have a number in my mind, Can you guess it?\")"
   ]
  },
  {
   "cell_type": "code",
   "execution_count": 3,
   "id": "7b663d2d",
   "metadata": {},
   "outputs": [
    {
     "name": "stdout",
     "output_type": "stream",
     "text": [
      "Enter your guess: 50\n",
      "COLD!!\n",
      "Enter your guess: 20\n",
      "Colder!!\n",
      "Enter your guess: 70\n",
      "Warmer!!\n",
      "Enter your guess: 75\n",
      "Warmer!!\n",
      "Enter your guess: 80\n",
      "Warmer!!\n",
      "Enter your guess: 90\n",
      "Colder!!\n",
      "Enter your guess: 85\n",
      "Warmer!!\n",
      "Enter your guess: 82\n",
      "Warmer!!\n",
      "Enter your guess: 83\n",
      "Congratulations! You guessed the correct number.\n",
      "You took 9 attempts to guess\n"
     ]
    }
   ],
   "source": [
    "guesses=[0]\n",
    "while True:\n",
    "    guess= int(input(\"Enter your guess: \"))\n",
    "    \n",
    "    if guess < 1 or guess > 100:\n",
    "        print('OUT OF BOUNDS! Please try again: ')\n",
    "        continue\n",
    "    if guess==num:\n",
    "        print(\"Congratulations! You guessed the correct number.\")\n",
    "        print(f'You took {len(guesses)} attempts to guess')\n",
    "        break\n",
    "    guesses.append(guess)\n",
    "    if guesses[-2]:\n",
    "        if abs(num-guess) < abs(num-guesses[-2]):\n",
    "            print(\"Warmer!!\")\n",
    "        else:\n",
    "            print(\"Colder!!\")\n",
    "    else:\n",
    "        if abs(num-guess)<= 10:\n",
    "            print(\"WARM!!\")\n",
    "        else:\n",
    "            print(\"COLD!!\")\n"
   ]
  },
  {
   "cell_type": "code",
   "execution_count": null,
   "id": "c854b8fa",
   "metadata": {},
   "outputs": [],
   "source": []
  }
 ],
 "metadata": {
  "kernelspec": {
   "display_name": "Python 3 (ipykernel)",
   "language": "python",
   "name": "python3"
  },
  "language_info": {
   "codemirror_mode": {
    "name": "ipython",
    "version": 3
   },
   "file_extension": ".py",
   "mimetype": "text/x-python",
   "name": "python",
   "nbconvert_exporter": "python",
   "pygments_lexer": "ipython3",
   "version": "3.9.12"
  }
 },
 "nbformat": 4,
 "nbformat_minor": 5
}
