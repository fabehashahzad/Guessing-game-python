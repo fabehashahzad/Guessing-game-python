{
 "cells": [
  {
   "cell_type": "code",
   "execution_count": 3,
   "id": "f830d27f",
   "metadata": {},
   "outputs": [
    {
     "name": "stdout",
     "output_type": "stream",
     "text": [
      "lets play!!\n",
      "I have a number in my mind, Can you guess it?\n"
     ]
    }
   ],
   "source": [
    "from random import randint\n",
    "num=randint(0,100)\n",
    "print('lets play!!')\n",
    "print(\"I have a number in my mind, Can you guess it?\")"
   ]
  },
  {
   "cell_type": "code",
   "execution_count": 4,
   "id": "7b663d2d",
   "metadata": {},
   "outputs": [
    {
     "name": "stdout",
     "output_type": "stream",
     "text": [
      "Enter your guess: 25\n",
      "COLD!!\n",
      "Enter your guess: 45\n",
      "Warmer!!\n",
      "Enter your guess: 42\n",
      "Warmer!!\n",
      "Enter your guess: 39\n",
      "Colder!!\n",
      "Enter your guess: 41\n",
      "Congratulations! You guessed the correct number.\n",
      "You took 5 attempts to guess\n"
     ]
    },
    {
     "data": {
      "text/plain": [
       "41"
      ]
     },
     "execution_count": 4,
     "metadata": {},
     "output_type": "execute_result"
    }
   ],
   "source": [
    "guesses=[0]\n",
    "while True:\n",
    "    guess= int(input(\"Enter your guess: \"))\n",
    "    \n",
    "    if guess < 1 or guess > 100:\n",
    "        print('OUT OF BOUNDS! Please try again: ')\n",
    "        continue\n",
    "    if guess==num:\n",
    "        print(\"Congratulations! You guessed the correct number.\")\n",
    "        print(f'You took {len(guesses)} attempts to guess')\n",
    "        break\n",
    "    guesses.append(guess)\n",
    "    if guesses[-2]:\n",
    "        if abs(num-guess) < abs(num-guesses[-2]):\n",
    "            print(\"Warmer!!\")\n",
    "        else:\n",
    "            print(\"Colder!!\")\n",
    "    else:\n",
    "        if abs(num-guess)<= 10:\n",
    "            print(\"WARM!!\")\n",
    "        else:\n",
    "            print(\"COLD!!\")\n",
    "num"
   ]
  },
  {
   "cell_type": "code",
   "execution_count": null,
   "id": "c854b8fa",
   "metadata": {},
   "outputs": [],
   "source": []
  }
 ],
 "metadata": {
  "kernelspec": {
   "display_name": "Python 3 (ipykernel)",
   "language": "python",
   "name": "python3"
  },
  "language_info": {
   "codemirror_mode": {
    "name": "ipython",
    "version": 3
   },
   "file_extension": ".py",
   "mimetype": "text/x-python",
   "name": "python",
   "nbconvert_exporter": "python",
   "pygments_lexer": "ipython3",
   "version": "3.9.12"
  }
 },
 "nbformat": 4,
 "nbformat_minor": 5
}
